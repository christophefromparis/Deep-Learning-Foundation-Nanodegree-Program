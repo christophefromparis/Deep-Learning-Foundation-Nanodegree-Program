{
 "cells": [
  {
   "cell_type": "markdown",
   "metadata": {
    "collapsed": true,
    "deletable": true,
    "editable": true
   },
   "source": [
    "# Image Classification\n",
    "In this project, you'll classify images from the [CIFAR-10 dataset](https://www.cs.toronto.edu/~kriz/cifar.html).  The dataset consists of airplanes, dogs, cats, and other objects. You'll preprocess the images, then train a convolutional neural network on all the samples. The images need to be normalized and the labels need to be one-hot encoded.  You'll get to apply what you learned and build a convolutional, max pooling, dropout, and fully connected layers.  At the end, you'll get to see your neural network's predictions on the sample images.\n",
    "## Get the Data\n",
    "Run the following cell to download the [CIFAR-10 dataset for python](https://www.cs.toronto.edu/~kriz/cifar-10-python.tar.gz)."
   ]
  },
  {
   "cell_type": "code",
   "execution_count": 2,
   "metadata": {
    "collapsed": false,
    "deletable": true,
    "editable": true
   },
   "outputs": [
    {
     "name": "stdout",
     "output_type": "stream",
     "text": [
      "All files found!\n"
     ]
    }
   ],
   "source": [
    "\"\"\"\n",
    "DON'T MODIFY ANYTHING IN THIS CELL THAT IS BELOW THIS LINE\n",
    "\"\"\"\n",
    "from urllib.request import urlretrieve\n",
    "from os.path import isfile, isdir\n",
    "from tqdm import tqdm\n",
    "import problem_unittests as tests\n",
    "import tarfile\n",
    "\n",
    "cifar10_dataset_folder_path = 'cifar-10-batches-py'\n",
    "\n",
    "class DLProgress(tqdm):\n",
    "    last_block = 0\n",
    "\n",
    "    def hook(self, block_num=1, block_size=1, total_size=None):\n",
    "        self.total = total_size\n",
    "        self.update((block_num - self.last_block) * block_size)\n",
    "        self.last_block = block_num\n",
    "\n",
    "if not isfile('cifar-10-python.tar.gz'):\n",
    "    with DLProgress(unit='B', unit_scale=True, miniters=1, desc='CIFAR-10 Dataset') as pbar:\n",
    "        urlretrieve(\n",
    "            'https://www.cs.toronto.edu/~kriz/cifar-10-python.tar.gz',\n",
    "            'cifar-10-python.tar.gz',\n",
    "            pbar.hook)\n",
    "\n",
    "if not isdir(cifar10_dataset_folder_path):\n",
    "    with tarfile.open('cifar-10-python.tar.gz') as tar:\n",
    "        tar.extractall()\n",
    "        tar.close()\n",
    "\n",
    "\n",
    "tests.test_folder_path(cifar10_dataset_folder_path)"
   ]
  },
  {
   "cell_type": "markdown",
   "metadata": {
    "deletable": true,
    "editable": true
   },
   "source": [
    "## Explore the Data\n",
    "The dataset is broken into batches to prevent your machine from running out of memory.  The CIFAR-10 dataset consists of 5 batches, named `data_batch_1`, `data_batch_2`, etc.. Each batch contains the labels and images that are one of the following:\n",
    "* airplane\n",
    "* automobile\n",
    "* bird\n",
    "* cat\n",
    "* deer\n",
    "* dog\n",
    "* frog\n",
    "* horse\n",
    "* ship\n",
    "* truck\n",
    "\n",
    "Understanding a dataset is part of making predictions on the data.  Play around with the code cell below by changing the `batch_id` and `sample_id`. The `batch_id` is the id for a batch (1-5). The `sample_id` is the id for a image and label pair in the batch.\n",
    "\n",
    "Ask yourself \"What are all possible labels?\", \"What is the range of values for the image data?\", \"Are the labels in order or random?\".  Answers to questions like these will help you preprocess the data and end up with better predictions."
   ]
  },
  {
   "cell_type": "code",
   "execution_count": 3,
   "metadata": {
    "collapsed": false,
    "deletable": true,
    "editable": true
   },
   "outputs": [
    {
     "name": "stdout",
     "output_type": "stream",
     "text": [
      "\n",
      "Stats of batch 2:\n",
      "Samples: 10000\n",
      "Label Counts: {0: 984, 1: 1007, 2: 1010, 3: 995, 4: 1010, 5: 988, 6: 1008, 7: 1026, 8: 987, 9: 985}\n",
      "First 20 Labels: [1, 6, 6, 8, 8, 3, 4, 6, 0, 6, 0, 3, 6, 6, 5, 4, 8, 3, 2, 6]\n",
      "\n",
      "Example of Image 14:\n",
      "Image - Min Value: 6 Max Value: 202\n",
      "Image - Shape: (32, 32, 3)\n",
      "Label - Label Id: 5 Name: dog\n"
     ]
    },
    {
     "data": {
      "image/png": "[encoded data removed]",
      "text/plain": [
       "<matplotlib.figure.Figure at 0x7f6e5f342780>"
      ]
     },
     "metadata": {
      "image/png": {
       "height": 250,
       "width": 253
      }
     },
     "output_type": "display_data"
    }
   ],
   "source": [
    "%matplotlib inline\n",
    "%config InlineBackend.figure_format = 'retina'\n",
    "\n",
    "import helper\n",
    "import numpy as np\n",
    "\n",
    "# Explore the dataset\n",
    "batch_id = 2\n",
    "sample_id = 14\n",
    "helper.display_stats(cifar10_dataset_folder_path, batch_id, sample_id)"
   ]
  },
  {
   "cell_type": "markdown",
   "metadata": {
    "deletable": true,
    "editable": true
   },
   "source": [
    "## Implement Preprocess Functions\n",
    "### Normalize\n",
    "In the cell below, implement the `normalize` function to take in image data, `x`, and return it as a normalized Numpy array. The values should be in the range of 0 to 1, inclusive.  The return object should be the same shape as `x`."
   ]
  },
  {
   "cell_type": "code",
   "execution_count": 56,
   "metadata": {
    "collapsed": false,
    "deletable": true,
    "editable": true
   },
   "outputs": [
    {
     "name": "stdout",
     "output_type": "stream",
     "text": [
      "Tests Passed\n"
     ]
    }
   ],
   "source": [
    "def normalize(x):\n",
    "    \"\"\"\n",
    "    Normalize a list of sample image data in the range of 0 to 1\n",
    "    : x: List of image data.  The image shape is (32, 32, 3)\n",
    "    : return: Numpy array of normalize data\n",
    "    \"\"\"\n",
    "    \n",
    "    # We create the array with the input data\n",
    "    out = np.asarray(x, dtype=np.float32)\n",
    "    \n",
    "    # We divide per the max value (255) to be in the range of 0,1\n",
    "    out = out / 255;\n",
    "    return out\n",
    "\n",
    "\"\"\"\n",
    "DON'T MODIFY ANYTHING IN THIS CELL THAT IS BELOW THIS LINE\n",
    "\"\"\"\n",
    "tests.test_normalize(normalize)"
   ]
  },
  {
   "cell_type": "markdown",
   "metadata": {
    "deletable": true,
    "editable": true
   },
   "source": [
    "### One-hot encode\n",
    "Just like the previous code cell, you'll be implementing a function for preprocessing.  This time, you'll implement the `one_hot_encode` function. The input, `x`, are a list of labels.  Implement the function to return the list of labels as One-Hot encoded Numpy array.  The possible values for labels are 0 to 9. The one-hot encoding function should return the same encoding for each value between each call to `one_hot_encode`.  Make sure to save the map of encodings outside the function.\n",
    "\n",
    "Hint: Don't reinvent the wheel."
   ]
  },
  {
   "cell_type": "code",
   "execution_count": 106,
   "metadata": {
    "collapsed": false,
    "deletable": true,
    "editable": true
   },
   "outputs": [
    {
     "name": "stdout",
     "output_type": "stream",
     "text": [
      "Tests Passed\n"
     ]
    }
   ],
   "source": [
    "from sklearn import preprocessing\n",
    "\n",
    "\"\"\"\n",
    "List of labels:\n",
    "0 = airplane\n",
    "1 = automotive\n",
    "2 = bird\n",
    "3 = cat\n",
    "4 = deer\n",
    "5 = dog\n",
    "6 = frog\n",
    "7 = horse\n",
    "8 = ship\n",
    "9 = truck\n",
    "\"\"\"\n",
    "\n",
    "# Initialize the global variable one_hot_map\n",
    "one_hot_map = None\n",
    "\n",
    "def one_hot_encode(x):\n",
    "    \"\"\"\n",
    "    One hot encode a list of sample labels. Return a one-hot encoded vector for each label.\n",
    "    : x: List of sample Labels\n",
    "    : return: Numpy array of one-hot encoded labels\n",
    "    \"\"\"\n",
    "    global one_hot_map\n",
    "    \n",
    "    # Initializing the one_hot_encoder\n",
    "    if one_hot_map == None:\n",
    "        # Create the encoder\n",
    "        lb = preprocessing.LabelBinarizer()\n",
    "        # Here the encoder finds the classes and assigns one-hot vectors \n",
    "        one_hot_map = lb.fit(x)\n",
    "    \n",
    "    # Transform the labels into one-hot encoded vectors\n",
    "    return one_hot_map.transform(x)\n",
    "\n",
    "\n",
    "\"\"\"\n",
    "DON'T MODIFY ANYTHING IN THIS CELL THAT IS BELOW THIS LINE\n",
    "\"\"\"\n",
    "tests.test_one_hot_encode(one_hot_encode)"
   ]
  },
  {
   "cell_type": "markdown",
   "metadata": {
    "deletable": true,
    "editable": true
   },
   "source": [
    "### Randomize Data\n",
    "As you saw from exploring the data above, the order of the samples are randomized.  It doesn't hurt to randomize it again, but you don't need to for this dataset."
   ]
  },
  {
   "cell_type": "markdown",
   "metadata": {
    "deletable": true,
    "editable": true
   },
   "source": [
    "## Preprocess all the data and save it\n",
    "Running the code cell below will preprocess all the CIFAR-10 data and save it to file. The code below also uses 10% of the training data for validation."
   ]
  },
  {
   "cell_type": "code",
   "execution_count": 107,
   "metadata": {
    "collapsed": false,
    "deletable": true,
    "editable": true
   },
   "outputs": [],
   "source": [
    "\"\"\"\n",
    "DON'T MODIFY ANYTHING IN THIS CELL\n",
    "\"\"\"\n",
    "# Preprocess Training, Validation, and Testing Data\n",
    "helper.preprocess_and_save_data(cifar10_dataset_folder_path, normalize, one_hot_encode)"
   ]
  },
  {
   "cell_type": "markdown",
   "metadata": {
    "deletable": true,
    "editable": true
   },
   "source": [
    "# Check Point\n",
    "This is your first checkpoint.  If you ever decide to come back to this notebook or have to restart the notebook, you can start from here.  The preprocessed data has been saved to disk."
   ]
  },
  {
   "cell_type": "code",
   "execution_count": 108,
   "metadata": {
    "collapsed": true,
    "deletable": true,
    "editable": true
   },
   "outputs": [],
   "source": [
    "\"\"\"\n",
    "DON'T MODIFY ANYTHING IN THIS CELL\n",
    "\"\"\"\n",
    "import pickle\n",
    "import problem_unittests as tests\n",
    "import helper\n",
    "\n",
    "# Load the Preprocessed Validation data\n",
    "valid_features, valid_labels = pickle.load(open('preprocess_validation.p', mode='rb'))"
   ]
  },
  {
   "cell_type": "markdown",
   "metadata": {
    "deletable": true,
    "editable": true
   },
   "source": [
    "## Build the network\n",
    "For the neural network, you'll build each layer into a function.  Most of the code you've seen has been outside of functions. To test your code more thoroughly, we require that you put each layer in a function.  This allows us to give you better feedback and test for simple mistakes using our unittests before you submit your project.\n",
    "\n",
    ">**Note:** If you're finding it hard to dedicate enough time for this course each week, we've provided a small shortcut to this part of the project. In the next couple of problems, you'll have the option to use classes from the [TensorFlow Layers](https://www.tensorflow.org/api_docs/python/tf/layers) or [TensorFlow Layers (contrib)](https://www.tensorflow.org/api_guides/python/contrib.layers) packages to build each layer, except the layers you build in the \"Convolutional and Max Pooling Layer\" section.  TF Layers is similar to Keras's and TFLearn's abstraction to layers, so it's easy to pickup.\n",
    "\n",
    ">However, if you would like to get the most out of this course, try to solve all the problems _without_ using anything from the TF Layers packages. You **can** still use classes from other packages that happen to have the same name as ones you find in TF Layers! For example, instead of using the TF Layers version of the `conv2d` class, [tf.layers.conv2d](https://www.tensorflow.org/api_docs/python/tf/layers/conv2d), you would want to use the TF Neural Network version of `conv2d`, [tf.nn.conv2d](https://www.tensorflow.org/api_docs/python/tf/nn/conv2d). \n",
    "\n",
    "Let's begin!\n",
    "\n",
    "### Input\n",
    "The neural network needs to read the image data, one-hot encoded labels, and dropout keep probability. Implement the following functions\n",
    "* Implement `neural_net_image_input`\n",
    " * Return a [TF Placeholder](https://www.tensorflow.org/api_docs/python/tf/placeholder)\n",
    " * Set the shape using `image_shape` with batch size set to `None`.\n",
    " * Name the TensorFlow placeholder \"x\" using the TensorFlow `name` parameter in the [TF Placeholder](https://www.tensorflow.org/api_docs/python/tf/placeholder).\n",
    "* Implement `neural_net_label_input`\n",
    " * Return a [TF Placeholder](https://www.tensorflow.org/api_docs/python/tf/placeholder)\n",
    " * Set the shape using `n_classes` with batch size set to `None`.\n",
    " * Name the TensorFlow placeholder \"y\" using the TensorFlow `name` parameter in the [TF Placeholder](https://www.tensorflow.org/api_docs/python/tf/placeholder).\n",
    "* Implement `neural_net_keep_prob_input`\n",
    " * Return a [TF Placeholder](https://www.tensorflow.org/api_docs/python/tf/placeholder) for dropout keep probability.\n",
    " * Name the TensorFlow placeholder \"keep_prob\" using the TensorFlow `name` parameter in the [TF Placeholder](https://www.tensorflow.org/api_docs/python/tf/placeholder).\n",
    "\n",
    "These names will be used at the end of the project to load your saved model.\n",
    "\n",
    "Note: `None` for shapes in TensorFlow allow for a dynamic size."
   ]
  },
  {
   "cell_type": "code",
   "execution_count": 109,
   "metadata": {
    "collapsed": false,
    "deletable": true,
    "editable": true
   },
   "outputs": [
    {
     "name": "stdout",
     "output_type": "stream",
     "text": [
      "Image Input Tests Passed.\n",
      "Label Input Tests Passed.\n",
      "Keep Prob Tests Passed.\n"
     ]
    }
   ],
   "source": [
    "import tensorflow as tf\n",
    "\n",
    "def neural_net_image_input(image_shape):\n",
    "    \"\"\"\n",
    "    Return a Tensor for a bach of image input\n",
    "    : image_shape: Shape of the images\n",
    "    : return: Tensor for image input.\n",
    "    \"\"\"\n",
    "    # Create the TF for image input\n",
    "    image_height = image_shape[0]\n",
    "    image_width = image_shape[1]\n",
    "    color_channels = image_shape[2]\n",
    "    image_input_tf = tf.placeholder(tf.float32, shape=[None, image_height, image_width, color_channels], name='x')\n",
    "    return image_input_tf\n",
    "\n",
    "def neural_net_label_input(n_classes):\n",
    "    \"\"\"\n",
    "    Return a Tensor for a batch of label input\n",
    "    : n_classes: Number of classes\n",
    "    : return: Tensor for label input.\n",
    "    \"\"\"\n",
    "    # Create the TF for label input\n",
    "    label_input_tf = tf.placeholder(tf.float32, shape=[None, n_classes], name='y')\n",
    "    return label_input_tf\n",
    "\n",
    "\n",
    "def neural_net_keep_prob_input():\n",
    "    \"\"\"\n",
    "    Return a Tensor for keep probability\n",
    "    : return: Tensor for keep probability.\n",
    "    \"\"\"\n",
    "    # Create the TF for keep probability\n",
    "    keep_probability_tf = tf.placeholder(tf.float32, name='keep_prob')\n",
    "    return keep_probability_tf\n",
    "\n",
    "\"\"\"\n",
    "DON'T MODIFY ANYTHING IN THIS CELL THAT IS BELOW THIS LINE\n",
    "\"\"\"\n",
    "tf.reset_default_graph()\n",
    "tests.test_nn_image_inputs(neural_net_image_input)\n",
    "tests.test_nn_label_inputs(neural_net_label_input)\n",
    "tests.test_nn_keep_prob_inputs(neural_net_keep_prob_input)"
   ]
  },
  {
   "cell_type": "markdown",
   "metadata": {
    "deletable": true,
    "editable": true
   },
   "source": [
    "### Convolution and Max Pooling Layer\n",
    "Convolution layers have a lot of success with images. For this code cell, you should implement the function `conv2d_maxpool` to apply convolution then max pooling:\n",
    "* Create the weight and bias using `conv_ksize`, `conv_num_outputs` and the shape of `x_tensor`.\n",
    "* Apply a convolution to `x_tensor` using weight and `conv_strides`.\n",
    " * We recommend you use same padding, but you're welcome to use any padding.\n",
    "* Add bias\n",
    "* Add a nonlinear activation to the convolution.\n",
    "* Apply Max Pooling using `pool_ksize` and `pool_strides`.\n",
    " * We recommend you use same padding, but you're welcome to use any padding.\n",
    "\n",
    "**Note:** You **can't** use [TensorFlow Layers](https://www.tensorflow.org/api_docs/python/tf/layers) or [TensorFlow Layers (contrib)](https://www.tensorflow.org/api_guides/python/contrib.layers) for **this** layer, but you can still use TensorFlow's [Neural Network](https://www.tensorflow.org/api_docs/python/tf/nn) package. You may still use the shortcut option for all the **other** layers."
   ]
  },
  {
   "cell_type": "code",
   "execution_count": 110,
   "metadata": {
    "collapsed": false,
    "deletable": true,
    "editable": true
   },
   "outputs": [
    {
     "name": "stdout",
     "output_type": "stream",
     "text": [
      "Tests Passed\n"
     ]
    }
   ],
   "source": [
    "def conv2d_maxpool(x_tensor, conv_num_outputs, conv_ksize, conv_strides, pool_ksize, pool_strides):\n",
    "    \"\"\"\n",
    "    Apply convolution then max pooling to x_tensor\n",
    "    :param x_tensor: TensorFlow Tensor\n",
    "    :param conv_num_outputs: Number of outputs for the convolutional layer\n",
    "    :conv_ksize: \n",
    "    :param conv_strides: Stride 2-D Tuple for convolution\n",
    "    :param pool_ksize: kernal size 2-D Tuple for pool\n",
    "    :param pool_strides: Stride 2-D Tuple for pool\n",
    "    : return: A tensor that represents convolution and max pooling of x_tensor\n",
    "    \"\"\"\n",
    "    \n",
    "    # Create the weights \n",
    "    colors_channel = x_tensor.get_shape().as_list()[3]\n",
    "    weight_shape = [conv_ksize[0], conv_ksize[1], colors_channel, conv_num_outputs]\n",
    "    weight = tf.Variable(tf.truncated_normal(weight_shape, stddev=0.1))\n",
    "    \n",
    "    # Create the bias\n",
    "    bias = tf.Variable(tf.zeros(conv_num_outputs))\n",
    "    \n",
    "    # Apply Convolution\n",
    "    conv_layer = tf.nn.conv2d(x_tensor, weight, strides=[1,conv_strides[0], conv_strides[1], 1] , padding='SAME')\n",
    "\n",
    "    # Add bias\n",
    "    conv_layer = tf.nn.bias_add(conv_layer, bias)\n",
    "\n",
    "    # Apply nonlinear activation function\n",
    "    conv_layer = tf.nn.relu(conv_layer)\n",
    "    \n",
    "    # Apply Max Pooling\n",
    "    conv_layer = tf.nn.max_pool(conv_layer, ksize=[1, pool_ksize[0], pool_ksize[1], 1], strides=[1, pool_strides[0], pool_strides[1], 1], padding='SAME')\n",
    "    return conv_layer\n",
    "\n",
    "\"\"\"\n",
    "DON'T MODIFY ANYTHING IN THIS CELL THAT IS BELOW THIS LINE\n",
    "\"\"\"\n",
    "tests.test_con_pool(conv2d_maxpool)"
   ]
  },
  {
   "cell_type": "markdown",
   "metadata": {
    "deletable": true,
    "editable": true
   },
   "source": [
    "### Flatten Layer\n",
    "Implement the `flatten` function to change the dimension of `x_tensor` from a 4-D tensor to a 2-D tensor.  The output should be the shape (*Batch Size*, *Flattened Image Size*). Shortcut option: you can use classes from the [TensorFlow Layers](https://www.tensorflow.org/api_docs/python/tf/layers) or [TensorFlow Layers (contrib)](https://www.tensorflow.org/api_guides/python/contrib.layers) packages for this layer. For more of a challenge, only use other TensorFlow packages."
   ]
  },
  {
   "cell_type": "code",
   "execution_count": 111,
   "metadata": {
    "collapsed": false,
    "deletable": true,
    "editable": true
   },
   "outputs": [
    {
     "name": "stdout",
     "output_type": "stream",
     "text": [
      "Tests Passed\n"
     ]
    }
   ],
   "source": [
    "def flatten(x_tensor):\n",
    "    \"\"\"\n",
    "    Flatten x_tensor to (Batch Size, Flattened Image Size)\n",
    "    : x_tensor: A tensor of size (Batch Size, ...), where ... are the image dimensions.\n",
    "    : return: A tensor of size (Batch Size, Flattened Image Size).\n",
    "    \"\"\"\n",
    "    # Reshape the tensor\n",
    "    input_size = x_tensor.get_shape().as_list()\n",
    "    flatten_tensor = tf.reshape(x_tensor, [-1, input_size[1] * input_size[2] * input_size[3]])\n",
    "    return flatten_tensor\n",
    "\n",
    "\"\"\"\n",
    "DON'T MODIFY ANYTHING IN THIS CELL THAT IS BELOW THIS LINE\n",
    "\"\"\"\n",
    "tests.test_flatten(flatten)"
   ]
  },
  {
   "cell_type": "markdown",
   "metadata": {
    "deletable": true,
    "editable": true
   },
   "source": [
    "### Fully-Connected Layer\n",
    "Implement the `fully_conn` function to apply a fully connected layer to `x_tensor` with the shape (*Batch Size*, *num_outputs*). Shortcut option: you can use classes from the [TensorFlow Layers](https://www.tensorflow.org/api_docs/python/tf/layers) or [TensorFlow Layers (contrib)](https://www.tensorflow.org/api_guides/python/contrib.layers) packages for this layer. For more of a challenge, only use other TensorFlow packages."
   ]
  },
  {
   "cell_type": "code",
   "execution_count": 112,
   "metadata": {
    "collapsed": false,
    "deletable": true,
    "editable": true
   },
   "outputs": [
    {
     "name": "stdout",
     "output_type": "stream",
     "text": [
      "Tests Passed\n"
     ]
    }
   ],
   "source": [
    "def fully_conn(x_tensor, num_outputs):\n",
    "    \"\"\"\n",
    "    Apply a fully connected layer to x_tensor using weight and bias\n",
    "    : x_tensor: A 2-D tensor where the first dimension is batch size.\n",
    "    : num_outputs: The number of output that the new tensor should be.\n",
    "    : return: A 2-D tensor where the second dimension is num_outputs.\n",
    "    \"\"\"\n",
    "    \n",
    "    # Create the weights\n",
    "    weight = tf.Variable(tf.truncated_normal([x_tensor.get_shape()[1].value, num_outputs], stddev=0.1))\n",
    "    \n",
    "    # Create the bias\n",
    "    bias = tf.Variable(tf.zeros(num_outputs))\n",
    "    \n",
    "    # Apply activation function\n",
    "    fc_tensor = tf.nn.relu(tf.matmul(x_tensor, weight) + bias)\n",
    "    return fc_tensor\n",
    "\n",
    "\"\"\"\n",
    "DON'T MODIFY ANYTHING IN THIS CELL THAT IS BELOW THIS LINE\n",
    "\"\"\"\n",
    "tests.test_fully_conn(fully_conn)"
   ]
  },
  {
   "cell_type": "markdown",
   "metadata": {
    "deletable": true,
    "editable": true
   },
   "source": [
    "### Output Layer\n",
    "Implement the `output` function to apply a fully connected layer to `x_tensor` with the shape (*Batch Size*, *num_outputs*). Shortcut option: you can use classes from the [TensorFlow Layers](https://www.tensorflow.org/api_docs/python/tf/layers) or [TensorFlow Layers (contrib)](https://www.tensorflow.org/api_guides/python/contrib.layers) packages for this layer. For more of a challenge, only use other TensorFlow packages.\n",
    "\n",
    "**Note:** Activation, softmax, or cross entropy should **not** be applied to this."
   ]
  },
  {
   "cell_type": "code",
   "execution_count": 113,
   "metadata": {
    "collapsed": false,
    "deletable": true,
    "editable": true
   },
   "outputs": [
    {
     "name": "stdout",
     "output_type": "stream",
     "text": [
      "Tests Passed\n"
     ]
    }
   ],
   "source": [
    "def output(x_tensor, num_outputs):\n",
    "    \"\"\"\n",
    "    Apply a output layer to x_tensor using weight and bias\n",
    "    : x_tensor: A 2-D tensor where the first dimension is batch size.\n",
    "    : num_outputs: The number of output that the new tensor should be.\n",
    "    : return: A 2-D tensor where the second dimension is num_outputs.\n",
    "    \"\"\"\n",
    "\n",
    "    # Create the output TS (Class prediction)\n",
    "    weight = tf.Variable(tf.random_normal([x_tensor.get_shape()[1].value, num_outputs]))\n",
    "    bias = tf.Variable(tf.random_normal([num_outputs]))\n",
    "    out = tf.add(tf.matmul(x_tensor, weight), bias)\n",
    "    return out\n",
    "\n",
    "\"\"\"\n",
    "DON'T MODIFY ANYTHING IN THIS CELL THAT IS BELOW THIS LINE\n",
    "\"\"\"\n",
    "tests.test_output(output)"
   ]
  },
  {
   "cell_type": "markdown",
   "metadata": {
    "deletable": true,
    "editable": true
   },
   "source": [
    "### Create Convolutional Model\n",
    "Implement the function `conv_net` to create a convolutional neural network model. The function takes in a batch of images, `x`, and outputs logits.  Use the layers you created above to create this model:\n",
    "\n",
    "* Apply 1, 2, or 3 Convolution and Max Pool layers\n",
    "* Apply a Flatten Layer\n",
    "* Apply 1, 2, or 3 Fully Connected Layers\n",
    "* Apply an Output Layer\n",
    "* Return the output\n",
    "* Apply [TensorFlow's Dropout](https://www.tensorflow.org/api_docs/python/tf/nn/dropout) to one or more layers in the model using `keep_prob`. "
   ]
  },
  {
   "cell_type": "code",
   "execution_count": 154,
   "metadata": {
    "collapsed": false,
    "deletable": true,
    "editable": true
   },
   "outputs": [
    {
     "name": "stdout",
     "output_type": "stream",
     "text": [
      "Neural Network Built!\n"
     ]
    }
   ],
   "source": [
    "def conv_net(x, keep_prob):\n",
    "    \"\"\"\n",
    "    Create a convolutional neural network model\n",
    "    : x: Placeholder tensor that holds image data.\n",
    "    : keep_prob: Placeholder tensor that hold dropout keep probability.\n",
    "    : return: Tensor that represents logits\n",
    "    \"\"\"\n",
    "    \n",
    "    # Convolution and Max Pool layers\n",
    "    #    Play around with different number of outputs, kernel size and stride\n",
    "    # Function Definition from Above:\n",
    "    #    conv2d_maxpool(x_tensor, conv_num_outputs, conv_ksize, conv_strides, pool_ksize, pool_strides)\n",
    "    conv_layer_1 = conv2d_maxpool(x, 64, (2, 2), (2, 2), (2, 2), (2, 2))\n",
    "    conv_layer_2 = conv2d_maxpool(conv_layer_1, 256, (2, 2), (2, 2), (2, 2), (2, 2))\n",
    "\n",
    "    # Flatten Layer\n",
    "    # Function Definition from Above:\n",
    "    #   flatten(x_tensor)\n",
    "    flatten_layer = flatten(conv_layer_2)\n",
    "    flatten_layer = tf.nn.dropout(flatten_layer, keep_prob)\n",
    "\n",
    "    # Fully Connected Layers\n",
    "    #    Play around with different number of outputs\n",
    "    # Function Definition from Above:\n",
    "    #   fully_conn(x_tensor, num_outputs)\n",
    "    fully_connected_layer_1 = fully_conn(flatten_layer, 2048)\n",
    "    fully_connected_layer_1 = tf.nn.dropout(fully_connected_layer_1, keep_prob)\n",
    "    fully_connected_layer_2 = fully_conn(flatten_layer, 1024)\n",
    "    \n",
    "    # Apply an Output Layer\n",
    "    #    Set this to the number of classes\n",
    "    # Function Definition from Above:\n",
    "    #   output(x_tensor, num_outputs)\n",
    "    logits = output(fully_connected_layer_2, 10)\n",
    "    return logits\n",
    "\n",
    "\"\"\"\n",
    "DON'T MODIFY ANYTHING IN THIS CELL THAT IS BELOW THIS LINE\n",
    "\"\"\"\n",
    "\n",
    "##############################\n",
    "## Build the Neural Network ##\n",
    "##############################\n",
    "\n",
    "# Remove previous weights, bias, inputs, etc..\n",
    "tf.reset_default_graph()\n",
    "\n",
    "# Inputs\n",
    "x = neural_net_image_input((32, 32, 3))\n",
    "y = neural_net_label_input(10)\n",
    "keep_prob = neural_net_keep_prob_input()\n",
    "\n",
    "# Model\n",
    "logits = conv_net(x, keep_prob)\n",
    "\n",
    "# Name logits Tensor, so that is can be loaded from disk after training\n",
    "logits = tf.identity(logits, name='logits')\n",
    "\n",
    "# Loss and Optimizer\n",
    "cost = tf.reduce_mean(tf.nn.softmax_cross_entropy_with_logits(logits=logits, labels=y))\n",
    "optimizer = tf.train.AdamOptimizer().minimize(cost)\n",
    "\n",
    "# Accuracy\n",
    "correct_pred = tf.equal(tf.argmax(logits, 1), tf.argmax(y, 1))\n",
    "accuracy = tf.reduce_mean(tf.cast(correct_pred, tf.float32), name='accuracy')\n",
    "\n",
    "tests.test_conv_net(conv_net)"
   ]
  },
  {
   "cell_type": "markdown",
   "metadata": {
    "deletable": true,
    "editable": true
   },
   "source": [
    "## Train the Neural Network\n",
    "### Single Optimization\n",
    "Implement the function `train_neural_network` to do a single optimization.  The optimization should use `optimizer` to optimize in `session` with a `feed_dict` of the following:\n",
    "* `x` for image input\n",
    "* `y` for labels\n",
    "* `keep_prob` for keep probability for dropout\n",
    "\n",
    "This function will be called for each batch, so `tf.global_variables_initializer()` has already been called.\n",
    "\n",
    "Note: Nothing needs to be returned. This function is only optimizing the neural network."
   ]
  },
  {
   "cell_type": "code",
   "execution_count": 155,
   "metadata": {
    "collapsed": false,
    "deletable": true,
    "editable": true
   },
   "outputs": [
    {
     "name": "stdout",
     "output_type": "stream",
     "text": [
      "Tests Passed\n"
     ]
    }
   ],
   "source": [
    "def train_neural_network(session, optimizer, keep_probability, feature_batch, label_batch):\n",
    "    \"\"\"\n",
    "    Optimize the session on a batch of images and labels\n",
    "    : session: Current TensorFlow session\n",
    "    : optimizer: TensorFlow optimizer function\n",
    "    : keep_probability: keep probability\n",
    "    : feature_batch: Batch of Numpy image data\n",
    "    : label_batch: Batch of Numpy label data\n",
    "    \"\"\"\n",
    "    # Optimizing the neural network.    \n",
    "    session.run(optimizer, feed_dict={\n",
    "                x: feature_batch,\n",
    "                y: label_batch,\n",
    "                keep_prob: keep_probability})\n",
    "\n",
    "\"\"\"\n",
    "DON'T MODIFY ANYTHING IN THIS CELL THAT IS BELOW THIS LINE\n",
    "\"\"\"\n",
    "tests.test_train_nn(train_neural_network)"
   ]
  },
  {
   "cell_type": "markdown",
   "metadata": {
    "deletable": true,
    "editable": true
   },
   "source": [
    "### Show Stats\n",
    "Implement the function `print_stats` to print loss and validation accuracy.  Use the global variables `valid_features` and `valid_labels` to calculate validation accuracy.  Use a keep probability of `1.0` to calculate the loss and validation accuracy."
   ]
  },
  {
   "cell_type": "code",
   "execution_count": 156,
   "metadata": {
    "collapsed": false,
    "deletable": true,
    "editable": true
   },
   "outputs": [],
   "source": [
    "def print_stats(session, feature_batch, label_batch, cost, accuracy):\n",
    "    \"\"\"\n",
    "    Print information about loss and validation accuracy\n",
    "    : session: Current TensorFlow session\n",
    "    : feature_batch: Batch of Numpy image data\n",
    "    : label_batch: Batch of Numpy label data\n",
    "    : cost: TensorFlow cost function\n",
    "    : accuracy: TensorFlow accuracy function\n",
    "    \"\"\"\n",
    "    # Calculate & Print Loss\n",
    "    loss = session.run(cost, feed_dict={\n",
    "                x: feature_batch,\n",
    "                y: label_batch,\n",
    "                keep_prob: 1.0})\n",
    "    \n",
    "    # Calculate & Print Validation Accuracy\n",
    "    validation_acc = session.run(accuracy, feed_dict={\n",
    "        x: valid_features,\n",
    "        y: valid_labels,\n",
    "        keep_prob: 1.0})\n",
    "    print('Validation Accuracy: {}, Loss: {}'.format(validation_acc, loss))\n",
    "    \n",
    "    "
   ]
  },
  {
   "cell_type": "markdown",
   "metadata": {
    "deletable": true,
    "editable": true
   },
   "source": [
    "### Hyperparameters\n",
    "Tune the following parameters:\n",
    "* Set `epochs` to the number of iterations until the network stops learning or start overfitting\n",
    "* Set `batch_size` to the highest number that your machine has memory for.  Most people set them to common sizes of memory:\n",
    " * 64\n",
    " * 128\n",
    " * 256\n",
    " * ...\n",
    "* Set `keep_probability` to the probability of keeping a node using dropout"
   ]
  },
  {
   "cell_type": "code",
   "execution_count": 160,
   "metadata": {
    "collapsed": true,
    "deletable": true,
    "editable": true
   },
   "outputs": [],
   "source": [
    "# TODO: Tune Parameters\n",
    "epochs = 25\n",
    "batch_size = 128\n",
    "keep_probability = 0.5"
   ]
  },
  {
   "cell_type": "markdown",
   "metadata": {
    "deletable": true,
    "editable": true
   },
   "source": [
    "### Train on a Single CIFAR-10 Batch\n",
    "Instead of training the neural network on all the CIFAR-10 batches of data, let's use a single batch. This should save time while you iterate on the model to get a better accuracy.  Once the final validation accuracy is 50% or greater, run the model on all the data in the next section."
   ]
  },
  {
   "cell_type": "code",
   "execution_count": 161,
   "metadata": {
    "collapsed": false,
    "deletable": true,
    "editable": true
   },
   "outputs": [
    {
     "name": "stdout",
     "output_type": "stream",
     "text": [
      "Checking the Training on a Single Batch...\n",
      "Epoch  1, CIFAR-10 Batch 1:  Validation Accuracy: 0.2971999943256378, Loss: 2.019561290740967\n",
      "Epoch  2, CIFAR-10 Batch 1:  Validation Accuracy: 0.35439997911453247, Loss: 1.7466671466827393\n",
      "Epoch  3, CIFAR-10 Batch 1:  Validation Accuracy: 0.39100000262260437, Loss: 1.5942769050598145\n",
      "Epoch  4, CIFAR-10 Batch 1:  Validation Accuracy: 0.41679996252059937, Loss: 1.4874799251556396\n",
      "Epoch  5, CIFAR-10 Batch 1:  Validation Accuracy: 0.43219998478889465, Loss: 1.4006553888320923\n",
      "Epoch  6, CIFAR-10 Batch 1:  Validation Accuracy: 0.4463999569416046, Loss: 1.284099817276001\n",
      "Epoch  7, CIFAR-10 Batch 1:  Validation Accuracy: 0.4439999759197235, Loss: 1.2608190774917603\n",
      "Epoch  8, CIFAR-10 Batch 1:  Validation Accuracy: 0.44759997725486755, Loss: 1.1495156288146973\n",
      "Epoch  9, CIFAR-10 Batch 1:  Validation Accuracy: 0.4721999764442444, Loss: 1.0538265705108643\n",
      "Epoch 10, CIFAR-10 Batch 1:  Validation Accuracy: 0.47579994797706604, Loss: 1.0094709396362305\n",
      "Epoch 11, CIFAR-10 Batch 1:  Validation Accuracy: 0.4795999825000763, Loss: 0.9942972660064697\n",
      "Epoch 12, CIFAR-10 Batch 1:  Validation Accuracy: 0.4869999587535858, Loss: 0.9100159406661987\n",
      "Epoch 13, CIFAR-10 Batch 1:  Validation Accuracy: 0.48739999532699585, Loss: 0.9210596084594727\n",
      "Epoch 14, CIFAR-10 Batch 1:  Validation Accuracy: 0.4949999749660492, Loss: 0.8680989742279053\n",
      "Epoch 15, CIFAR-10 Batch 1:  Validation Accuracy: 0.5101999044418335, Loss: 0.7581956386566162\n",
      "Epoch 16, CIFAR-10 Batch 1:  Validation Accuracy: 0.5077999830245972, Loss: 0.7367486357688904\n",
      "Epoch 17, CIFAR-10 Batch 1:  Validation Accuracy: 0.496599942445755, Loss: 0.6623044013977051\n",
      "Epoch 18, CIFAR-10 Batch 1:  Validation Accuracy: 0.51419997215271, Loss: 0.6310149431228638\n",
      "Epoch 19, CIFAR-10 Batch 1:  Validation Accuracy: 0.5133998990058899, Loss: 0.6050445437431335\n",
      "Epoch 20, CIFAR-10 Batch 1:  Validation Accuracy: 0.5203999876976013, Loss: 0.5598745346069336\n",
      "Epoch 21, CIFAR-10 Batch 1:  Validation Accuracy: 0.5227999687194824, Loss: 0.5099633932113647\n",
      "Epoch 22, CIFAR-10 Batch 1:  Validation Accuracy: 0.5201999545097351, Loss: 0.5120499134063721\n",
      "Epoch 23, CIFAR-10 Batch 1:  Validation Accuracy: 0.52239990234375, Loss: 0.4690142869949341\n",
      "Epoch 24, CIFAR-10 Batch 1:  Validation Accuracy: 0.5261999368667603, Loss: 0.4172273278236389\n",
      "Epoch 25, CIFAR-10 Batch 1:  Validation Accuracy: 0.5347999334335327, Loss: 0.3576868176460266\n"
     ]
    }
   ],
   "source": [
    "\"\"\"\n",
    "DON'T MODIFY ANYTHING IN THIS CELL\n",
    "\"\"\"\n",
    "print('Checking the Training on a Single Batch...')\n",
    "with tf.Session() as sess:\n",
    "    # Initializing the variables\n",
    "    sess.run(tf.global_variables_initializer())\n",
    "    \n",
    "    # Training cycle\n",
    "    for epoch in range(epochs):\n",
    "        batch_i = 1\n",
    "        for batch_features, batch_labels in helper.load_preprocess_training_batch(batch_i, batch_size):\n",
    "            train_neural_network(sess, optimizer, keep_probability, batch_features, batch_labels)\n",
    "        print('Epoch {:>2}, CIFAR-10 Batch {}:  '.format(epoch + 1, batch_i), end='')\n",
    "        print_stats(sess, batch_features, batch_labels, cost, accuracy)"
   ]
  },
  {
   "cell_type": "markdown",
   "metadata": {
    "deletable": true,
    "editable": true
   },
   "source": [
    "### Fully Train the Model\n",
    "Now that you got a good accuracy with a single CIFAR-10 batch, try it with all five batches."
   ]
  },
  {
   "cell_type": "code",
   "execution_count": 162,
   "metadata": {
    "collapsed": false,
    "deletable": true,
    "editable": true
   },
   "outputs": [
    {
     "name": "stdout",
     "output_type": "stream",
     "text": [
      "Training...\n",
      "Epoch  1, CIFAR-10 Batch 1:  Validation Accuracy: 0.3125999867916107, Loss: 1.9753625392913818\n",
      "Epoch  1, CIFAR-10 Batch 2:  Validation Accuracy: 0.37919995188713074, Loss: 1.6936026811599731\n",
      "Epoch  1, CIFAR-10 Batch 3:  Validation Accuracy: 0.407399982213974, Loss: 1.4861676692962646\n",
      "Epoch  1, CIFAR-10 Batch 4:  Validation Accuracy: 0.4297999441623688, Loss: 1.6030293703079224\n",
      "Epoch  1, CIFAR-10 Batch 5:  Validation Accuracy: 0.4439999759197235, Loss: 1.6825621128082275\n",
      "Epoch  2, CIFAR-10 Batch 1:  Validation Accuracy: 0.4455999732017517, Loss: 1.6739565134048462\n",
      "Epoch  2, CIFAR-10 Batch 2:  Validation Accuracy: 0.465999960899353, Loss: 1.4163362979888916\n",
      "Epoch  2, CIFAR-10 Batch 3:  Validation Accuracy: 0.468999981880188, Loss: 1.2067821025848389\n",
      "Epoch  2, CIFAR-10 Batch 4:  Validation Accuracy: 0.5031999349594116, Loss: 1.2935163974761963\n",
      "Epoch  2, CIFAR-10 Batch 5:  Validation Accuracy: 0.47499996423721313, Loss: 1.4620693922042847\n",
      "Epoch  3, CIFAR-10 Batch 1:  Validation Accuracy: 0.5033999085426331, Loss: 1.4834877252578735\n",
      "Epoch  3, CIFAR-10 Batch 2:  Validation Accuracy: 0.5083999633789062, Loss: 1.296615481376648\n",
      "Epoch  3, CIFAR-10 Batch 3:  Validation Accuracy: 0.5121999382972717, Loss: 1.0577186346054077\n",
      "Epoch  3, CIFAR-10 Batch 4:  Validation Accuracy: 0.5269998908042908, Loss: 1.1277706623077393\n",
      "Epoch  3, CIFAR-10 Batch 5:  Validation Accuracy: 0.5165999531745911, Loss: 1.262557029724121\n",
      "Epoch  4, CIFAR-10 Batch 1:  Validation Accuracy: 0.5279999375343323, Loss: 1.2946957349777222\n",
      "Epoch  4, CIFAR-10 Batch 2:  Validation Accuracy: 0.5311999917030334, Loss: 1.2287646532058716\n",
      "Epoch  4, CIFAR-10 Batch 3:  Validation Accuracy: 0.5252000093460083, Loss: 0.9426429271697998\n",
      "Epoch  4, CIFAR-10 Batch 4:  Validation Accuracy: 0.5413998961448669, Loss: 1.0568374395370483\n",
      "Epoch  4, CIFAR-10 Batch 5:  Validation Accuracy: 0.539199948310852, Loss: 1.1976546049118042\n",
      "Epoch  5, CIFAR-10 Batch 1:  Validation Accuracy: 0.5387999415397644, Loss: 1.2310961484909058\n",
      "Epoch  5, CIFAR-10 Batch 2:  Validation Accuracy: 0.5469999313354492, Loss: 1.199244737625122\n",
      "Epoch  5, CIFAR-10 Batch 3:  Validation Accuracy: 0.5267999172210693, Loss: 0.9434671401977539\n",
      "Epoch  5, CIFAR-10 Batch 4:  Validation Accuracy: 0.5537999272346497, Loss: 0.9738022685050964\n",
      "Epoch  5, CIFAR-10 Batch 5:  Validation Accuracy: 0.5529999732971191, Loss: 1.023728370666504\n",
      "Epoch  6, CIFAR-10 Batch 1:  Validation Accuracy: 0.5641999244689941, Loss: 1.19850492477417\n",
      "Epoch  6, CIFAR-10 Batch 2:  Validation Accuracy: 0.5645999908447266, Loss: 1.043014645576477\n",
      "Epoch  6, CIFAR-10 Batch 3:  Validation Accuracy: 0.5453999042510986, Loss: 0.8444377183914185\n",
      "Epoch  6, CIFAR-10 Batch 4:  Validation Accuracy: 0.5739998817443848, Loss: 0.9298951029777527\n",
      "Epoch  6, CIFAR-10 Batch 5:  Validation Accuracy: 0.569399893283844, Loss: 0.9906660318374634\n",
      "Epoch  7, CIFAR-10 Batch 1:  Validation Accuracy: 0.5837998986244202, Loss: 1.0221048593521118\n",
      "Epoch  7, CIFAR-10 Batch 2:  Validation Accuracy: 0.5847998857498169, Loss: 0.9793790578842163\n",
      "Epoch  7, CIFAR-10 Batch 3:  Validation Accuracy: 0.5671999454498291, Loss: 0.8223618865013123\n",
      "Epoch  7, CIFAR-10 Batch 4:  Validation Accuracy: 0.5813999176025391, Loss: 0.8258588314056396\n",
      "Epoch  7, CIFAR-10 Batch 5:  Validation Accuracy: 0.5733999013900757, Loss: 0.9183695912361145\n",
      "Epoch  8, CIFAR-10 Batch 1:  Validation Accuracy: 0.5885998606681824, Loss: 0.9926816821098328\n",
      "Epoch  8, CIFAR-10 Batch 2:  Validation Accuracy: 0.5893999338150024, Loss: 0.9655990600585938\n",
      "Epoch  8, CIFAR-10 Batch 3:  Validation Accuracy: 0.5871999263763428, Loss: 0.6932878494262695\n",
      "Epoch  8, CIFAR-10 Batch 4:  Validation Accuracy: 0.5871999263763428, Loss: 0.7864603996276855\n",
      "Epoch  8, CIFAR-10 Batch 5:  Validation Accuracy: 0.5831999182701111, Loss: 0.8919510841369629\n",
      "Epoch  9, CIFAR-10 Batch 1:  Validation Accuracy: 0.5895999670028687, Loss: 0.8900485038757324\n",
      "Epoch  9, CIFAR-10 Batch 2:  Validation Accuracy: 0.5907999277114868, Loss: 0.9087798595428467\n",
      "Epoch  9, CIFAR-10 Batch 3:  Validation Accuracy: 0.5907999873161316, Loss: 0.6262344717979431\n",
      "Epoch  9, CIFAR-10 Batch 4:  Validation Accuracy: 0.598599910736084, Loss: 0.6970053911209106\n",
      "Epoch  9, CIFAR-10 Batch 5:  Validation Accuracy: 0.5831998586654663, Loss: 0.7661855220794678\n",
      "Epoch 10, CIFAR-10 Batch 1:  Validation Accuracy: 0.5981999039649963, Loss: 0.7852398157119751\n",
      "Epoch 10, CIFAR-10 Batch 2:  Validation Accuracy: 0.5965998768806458, Loss: 0.8333024978637695\n",
      "Epoch 10, CIFAR-10 Batch 3:  Validation Accuracy: 0.5879999399185181, Loss: 0.6180288791656494\n",
      "Epoch 10, CIFAR-10 Batch 4:  Validation Accuracy: 0.6027999520301819, Loss: 0.6842883825302124\n",
      "Epoch 10, CIFAR-10 Batch 5:  Validation Accuracy: 0.5963999629020691, Loss: 0.6660522818565369\n",
      "Epoch 11, CIFAR-10 Batch 1:  Validation Accuracy: 0.6073999404907227, Loss: 0.8170106410980225\n",
      "Epoch 11, CIFAR-10 Batch 2:  Validation Accuracy: 0.6129999160766602, Loss: 0.7548184394836426\n",
      "Epoch 11, CIFAR-10 Batch 3:  Validation Accuracy: 0.5883999466896057, Loss: 0.5560094118118286\n",
      "Epoch 11, CIFAR-10 Batch 4:  Validation Accuracy: 0.6197998523712158, Loss: 0.6314187049865723\n",
      "Epoch 11, CIFAR-10 Batch 5:  Validation Accuracy: 0.5983999371528625, Loss: 0.6066493391990662\n",
      "Epoch 12, CIFAR-10 Batch 1:  Validation Accuracy: 0.6067999005317688, Loss: 0.7268688678741455\n",
      "Epoch 12, CIFAR-10 Batch 2:  Validation Accuracy: 0.6099998950958252, Loss: 0.7795625329017639\n",
      "Epoch 12, CIFAR-10 Batch 3:  Validation Accuracy: 0.6125999093055725, Loss: 0.4742634892463684\n",
      "Epoch 12, CIFAR-10 Batch 4:  Validation Accuracy: 0.6247999668121338, Loss: 0.575596034526825\n",
      "Epoch 12, CIFAR-10 Batch 5:  Validation Accuracy: 0.5893999338150024, Loss: 0.5885009169578552\n",
      "Epoch 13, CIFAR-10 Batch 1:  Validation Accuracy: 0.6183998584747314, Loss: 0.6523117423057556\n",
      "Epoch 13, CIFAR-10 Batch 2:  Validation Accuracy: 0.6205998659133911, Loss: 0.6333552002906799\n",
      "Epoch 13, CIFAR-10 Batch 3:  Validation Accuracy: 0.6119998693466187, Loss: 0.43465423583984375\n",
      "Epoch 13, CIFAR-10 Batch 4:  Validation Accuracy: 0.6199999451637268, Loss: 0.5140645503997803\n",
      "Epoch 13, CIFAR-10 Batch 5:  Validation Accuracy: 0.5991999506950378, Loss: 0.509734034538269\n",
      "Epoch 14, CIFAR-10 Batch 1:  Validation Accuracy: 0.6275998950004578, Loss: 0.5752921104431152\n",
      "Epoch 14, CIFAR-10 Batch 2:  Validation Accuracy: 0.6143999099731445, Loss: 0.6086843013763428\n",
      "Epoch 14, CIFAR-10 Batch 3:  Validation Accuracy: 0.6155999302864075, Loss: 0.39915764331817627\n",
      "Epoch 14, CIFAR-10 Batch 4:  Validation Accuracy: 0.6251999139785767, Loss: 0.48853468894958496\n",
      "Epoch 14, CIFAR-10 Batch 5:  Validation Accuracy: 0.5913999080657959, Loss: 0.48107367753982544\n",
      "Epoch 15, CIFAR-10 Batch 1:  Validation Accuracy: 0.6263998746871948, Loss: 0.5428598523139954\n",
      "Epoch 15, CIFAR-10 Batch 2:  Validation Accuracy: 0.6169999241828918, Loss: 0.5715612769126892\n",
      "Epoch 15, CIFAR-10 Batch 3:  Validation Accuracy: 0.6213998794555664, Loss: 0.36552679538726807\n",
      "Epoch 15, CIFAR-10 Batch 4:  Validation Accuracy: 0.6223999261856079, Loss: 0.4948144555091858\n",
      "Epoch 15, CIFAR-10 Batch 5:  Validation Accuracy: 0.6015998721122742, Loss: 0.4312785565853119\n",
      "Epoch 16, CIFAR-10 Batch 1:  Validation Accuracy: 0.6285998821258545, Loss: 0.48864680528640747\n",
      "Epoch 16, CIFAR-10 Batch 2:  Validation Accuracy: 0.6191998720169067, Loss: 0.49342799186706543\n",
      "Epoch 16, CIFAR-10 Batch 3:  Validation Accuracy: 0.608799934387207, Loss: 0.36986738443374634\n",
      "Epoch 16, CIFAR-10 Batch 4:  Validation Accuracy: 0.6213998198509216, Loss: 0.41565966606140137\n",
      "Epoch 16, CIFAR-10 Batch 5:  Validation Accuracy: 0.6025998592376709, Loss: 0.4295799434185028\n",
      "Epoch 17, CIFAR-10 Batch 1:  Validation Accuracy: 0.6349998712539673, Loss: 0.46632128953933716\n",
      "Epoch 17, CIFAR-10 Batch 2:  Validation Accuracy: 0.6275998950004578, Loss: 0.4104495644569397\n",
      "Epoch 17, CIFAR-10 Batch 3:  Validation Accuracy: 0.6131998896598816, Loss: 0.32138484716415405\n",
      "Epoch 17, CIFAR-10 Batch 4:  Validation Accuracy: 0.6353998780250549, Loss: 0.369789719581604\n",
      "Epoch 17, CIFAR-10 Batch 5:  Validation Accuracy: 0.6207998991012573, Loss: 0.3504956364631653\n",
      "Epoch 18, CIFAR-10 Batch 1:  Validation Accuracy: 0.6321998834609985, Loss: 0.43667346239089966\n",
      "Epoch 18, CIFAR-10 Batch 2:  Validation Accuracy: 0.6233999133110046, Loss: 0.36935293674468994\n",
      "Epoch 18, CIFAR-10 Batch 3:  Validation Accuracy: 0.6351999044418335, Loss: 0.26821672916412354\n",
      "Epoch 18, CIFAR-10 Batch 4:  Validation Accuracy: 0.6339998841285706, Loss: 0.33527350425720215\n",
      "Epoch 18, CIFAR-10 Batch 5:  Validation Accuracy: 0.6139999032020569, Loss: 0.3569238483905792\n",
      "Epoch 19, CIFAR-10 Batch 1:  Validation Accuracy: 0.6409998536109924, Loss: 0.37552276253700256\n",
      "Epoch 19, CIFAR-10 Batch 2:  Validation Accuracy: 0.6243999004364014, Loss: 0.30633053183555603\n",
      "Epoch 19, CIFAR-10 Batch 3:  Validation Accuracy: 0.6285999417304993, Loss: 0.22578397393226624\n",
      "Epoch 19, CIFAR-10 Batch 4:  Validation Accuracy: 0.6411998271942139, Loss: 0.2562829852104187\n",
      "Epoch 19, CIFAR-10 Batch 5:  Validation Accuracy: 0.6303998231887817, Loss: 0.29249557852745056\n",
      "Epoch 20, CIFAR-10 Batch 1:  Validation Accuracy: 0.6429998874664307, Loss: 0.321620911359787\n",
      "Epoch 20, CIFAR-10 Batch 2:  Validation Accuracy: 0.637799859046936, Loss: 0.23667359352111816\n",
      "Epoch 20, CIFAR-10 Batch 3:  Validation Accuracy: 0.6403999328613281, Loss: 0.22246719896793365\n",
      "Epoch 20, CIFAR-10 Batch 4:  Validation Accuracy: 0.642599880695343, Loss: 0.22772134840488434\n",
      "Epoch 20, CIFAR-10 Batch 5:  Validation Accuracy: 0.6253998875617981, Loss: 0.27729928493499756\n",
      "Epoch 21, CIFAR-10 Batch 1:  Validation Accuracy: 0.6489998698234558, Loss: 0.31644266843795776\n",
      "Epoch 21, CIFAR-10 Batch 2:  Validation Accuracy: 0.6267999410629272, Loss: 0.20512263476848602\n",
      "Epoch 21, CIFAR-10 Batch 3:  Validation Accuracy: 0.6283999085426331, Loss: 0.20926424860954285\n",
      "Epoch 21, CIFAR-10 Batch 4:  Validation Accuracy: 0.634199857711792, Loss: 0.21453438699245453\n",
      "Epoch 21, CIFAR-10 Batch 5:  Validation Accuracy: 0.637799859046936, Loss: 0.24044761061668396\n",
      "Epoch 22, CIFAR-10 Batch 1:  Validation Accuracy: 0.6487998962402344, Loss: 0.2820713520050049\n",
      "Epoch 22, CIFAR-10 Batch 2:  Validation Accuracy: 0.6351998448371887, Loss: 0.2544793486595154\n",
      "Epoch 22, CIFAR-10 Batch 3:  Validation Accuracy: 0.6437998414039612, Loss: 0.1894151270389557\n",
      "Epoch 22, CIFAR-10 Batch 4:  Validation Accuracy: 0.6325998902320862, Loss: 0.22161486744880676\n",
      "Epoch 22, CIFAR-10 Batch 5:  Validation Accuracy: 0.6287999153137207, Loss: 0.21342769265174866\n",
      "Epoch 23, CIFAR-10 Batch 1:  Validation Accuracy: 0.6461998820304871, Loss: 0.26872339844703674\n",
      "Epoch 23, CIFAR-10 Batch 2:  Validation Accuracy: 0.6425999402999878, Loss: 0.17062965035438538\n",
      "Epoch 23, CIFAR-10 Batch 3:  Validation Accuracy: 0.642599880695343, Loss: 0.15991392731666565\n",
      "Epoch 23, CIFAR-10 Batch 4:  Validation Accuracy: 0.6421998739242554, Loss: 0.18385592103004456\n",
      "Epoch 23, CIFAR-10 Batch 5:  Validation Accuracy: 0.6321998834609985, Loss: 0.18428203463554382\n",
      "Epoch 24, CIFAR-10 Batch 1:  Validation Accuracy: 0.6441999077796936, Loss: 0.23898626863956451\n",
      "Epoch 24, CIFAR-10 Batch 2:  Validation Accuracy: 0.6345998644828796, Loss: 0.14869113266468048\n",
      "Epoch 24, CIFAR-10 Batch 3:  Validation Accuracy: 0.6333999633789062, Loss: 0.12828180193901062\n",
      "Epoch 24, CIFAR-10 Batch 4:  Validation Accuracy: 0.6231999397277832, Loss: 0.18600386381149292\n",
      "Epoch 24, CIFAR-10 Batch 5:  Validation Accuracy: 0.635999858379364, Loss: 0.1946263313293457\n",
      "Epoch 25, CIFAR-10 Batch 1:  Validation Accuracy: 0.6355999112129211, Loss: 0.2004479616880417\n",
      "Epoch 25, CIFAR-10 Batch 2:  Validation Accuracy: 0.6351999044418335, Loss: 0.1549065113067627\n",
      "Epoch 25, CIFAR-10 Batch 3:  Validation Accuracy: 0.643799901008606, Loss: 0.14108577370643616\n",
      "Epoch 25, CIFAR-10 Batch 4:  Validation Accuracy: 0.6275999546051025, Loss: 0.13764077425003052\n",
      "Epoch 25, CIFAR-10 Batch 5:  Validation Accuracy: 0.6415998935699463, Loss: 0.14910826086997986\n"
     ]
    }
   ],
   "source": [
    "\"\"\"\n",
    "DON'T MODIFY ANYTHING IN THIS CELL\n",
    "\"\"\"\n",
    "save_model_path = './image_classification'\n",
    "\n",
    "print('Training...')\n",
    "with tf.Session() as sess:\n",
    "    # Initializing the variables\n",
    "    sess.run(tf.global_variables_initializer())\n",
    "    \n",
    "    # Training cycle\n",
    "    for epoch in range(epochs):\n",
    "        # Loop over all batches\n",
    "        n_batches = 5\n",
    "        for batch_i in range(1, n_batches + 1):\n",
    "            for batch_features, batch_labels in helper.load_preprocess_training_batch(batch_i, batch_size):\n",
    "                train_neural_network(sess, optimizer, keep_probability, batch_features, batch_labels)\n",
    "            print('Epoch {:>2}, CIFAR-10 Batch {}:  '.format(epoch + 1, batch_i), end='')\n",
    "            print_stats(sess, batch_features, batch_labels, cost, accuracy)\n",
    "            \n",
    "    # Save Model\n",
    "    saver = tf.train.Saver()\n",
    "    save_path = saver.save(sess, save_model_path)"
   ]
  },
  {
   "cell_type": "markdown",
   "metadata": {
    "deletable": true,
    "editable": true
   },
   "source": [
    "# Checkpoint\n",
    "The model has been saved to disk.\n",
    "## Test Model\n",
    "Test your model against the test dataset.  This will be your final accuracy. You should have an accuracy greater than 50%. If you don't, keep tweaking the model architecture and parameters."
   ]
  },
  {
   "cell_type": "code",
   "execution_count": 163,
   "metadata": {
    "collapsed": false,
    "deletable": true,
    "editable": true
   },
   "outputs": [
    {
     "name": "stdout",
     "output_type": "stream",
     "text": [
      "Testing Accuracy: 0.6359770569620253\n",
      "\n"
     ]
    },
    {
     "data": {
      "image/png": "[encoded data removed]",
      "text/plain": [
       "<matplotlib.figure.Figure at 0x7f6e52547668>"
      ]
     },
     "metadata": {
      "image/png": {
       "height": 319,
       "width": 355
      }
     },
     "output_type": "display_data"
    }
   ],
   "source": [
    "\"\"\"\n",
    "DON'T MODIFY ANYTHING IN THIS CELL\n",
    "\"\"\"\n",
    "%matplotlib inline\n",
    "%config InlineBackend.figure_format = 'retina'\n",
    "\n",
    "import tensorflow as tf\n",
    "import pickle\n",
    "import helper\n",
    "import random\n",
    "\n",
    "# Set batch size if not already set\n",
    "try:\n",
    "    if batch_size:\n",
    "        pass\n",
    "except NameError:\n",
    "    batch_size = 64\n",
    "\n",
    "save_model_path = './image_classification'\n",
    "n_samples = 4\n",
    "top_n_predictions = 3\n",
    "\n",
    "def test_model():\n",
    "    \"\"\"\n",
    "    Test the saved model against the test dataset\n",
    "    \"\"\"\n",
    "\n",
    "    test_features, test_labels = pickle.load(open('preprocess_training.p', mode='rb'))\n",
    "    loaded_graph = tf.Graph()\n",
    "\n",
    "    with tf.Session(graph=loaded_graph) as sess:\n",
    "        # Load model\n",
    "        loader = tf.train.import_meta_graph(save_model_path + '.meta')\n",
    "        loader.restore(sess, save_model_path)\n",
    "\n",
    "        # Get Tensors from loaded model\n",
    "        loaded_x = loaded_graph.get_tensor_by_name('x:0')\n",
    "        loaded_y = loaded_graph.get_tensor_by_name('y:0')\n",
    "        loaded_keep_prob = loaded_graph.get_tensor_by_name('keep_prob:0')\n",
    "        loaded_logits = loaded_graph.get_tensor_by_name('logits:0')\n",
    "        loaded_acc = loaded_graph.get_tensor_by_name('accuracy:0')\n",
    "        \n",
    "        # Get accuracy in batches for memory limitations\n",
    "        test_batch_acc_total = 0\n",
    "        test_batch_count = 0\n",
    "        \n",
    "        for train_feature_batch, train_label_batch in helper.batch_features_labels(test_features, test_labels, batch_size):\n",
    "            test_batch_acc_total += sess.run(\n",
    "                loaded_acc,\n",
    "                feed_dict={loaded_x: train_feature_batch, loaded_y: train_label_batch, loaded_keep_prob: 1.0})\n",
    "            test_batch_count += 1\n",
    "\n",
    "        print('Testing Accuracy: {}\\n'.format(test_batch_acc_total/test_batch_count))\n",
    "\n",
    "        # Print Random Samples\n",
    "        random_test_features, random_test_labels = tuple(zip(*random.sample(list(zip(test_features, test_labels)), n_samples)))\n",
    "        random_test_predictions = sess.run(\n",
    "            tf.nn.top_k(tf.nn.softmax(loaded_logits), top_n_predictions),\n",
    "            feed_dict={loaded_x: random_test_features, loaded_y: random_test_labels, loaded_keep_prob: 1.0})\n",
    "        helper.display_image_predictions(random_test_features, random_test_labels, random_test_predictions)\n",
    "\n",
    "\n",
    "test_model()"
   ]
  },
  {
   "cell_type": "markdown",
   "metadata": {
    "deletable": true,
    "editable": true
   },
   "source": [
    "## Why 50-70% Accuracy?\n",
    "You might be wondering why you can't get an accuracy any higher. First things first, 50% isn't bad for a simple CNN.  Pure guessing would get you 10% accuracy. However, you might notice people are getting scores [well above 70%](http://rodrigob.github.io/are_we_there_yet/build/classification_datasets_results.html#43494641522d3130).  That's because we haven't taught you all there is to know about neural networks. We still need to cover a few more techniques.\n",
    "## Submitting This Project\n",
    "When submitting this project, make sure to run all the cells before saving the notebook.  Save the notebook file as \"dlnd_image_classification.ipynb\" and save it as a HTML file under \"File\" -> \"Download as\".  Include the \"helper.py\" and \"problem_unittests.py\" files in your submission."
   ]
  }
 ],
 "metadata": {
  "kernelspec": {
   "display_name": "Python 3",
   "language": "python",
   "name": "python3"
  },
  "language_info": {
   "codemirror_mode": {
    "name": "ipython",
    "version": 3
   },
   "file_extension": ".py",
   "mimetype": "text/x-python",
   "name": "python",
   "nbconvert_exporter": "python",
   "pygments_lexer": "ipython3",
   "version": "3.5.2"
  },
  "widgets": {
   "state": {},
   "version": "1.1.2"
  }
 },
 "nbformat": 4,
 "nbformat_minor": 0
}
